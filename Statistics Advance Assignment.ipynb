{
 "cells": [
  {
   "cell_type": "markdown",
   "id": "c18f0df9-4bd4-47f2-9f13-60681a82da0f",
   "metadata": {},
   "source": [
    "# Q1. What is the Probability density function?"
   ]
  },
  {
   "cell_type": "code",
   "execution_count": null,
   "id": "81515297-8c0d-4d6a-a7db-89eb110d7612",
   "metadata": {},
   "outputs": [],
   "source": [
    "The Probability Density Function (PDF) of a continuous random variable X is a function that describes the relative\n",
    "likelihood for this random variable to take on a particular value. The PDF is denoted by f(x)."
   ]
  },
  {
   "cell_type": "markdown",
   "id": "534711a8-6d03-480a-b133-7b74e788fca2",
   "metadata": {},
   "source": [
    "# Q2. What are the types of Probability distribution?"
   ]
  },
  {
   "cell_type": "code",
   "execution_count": null,
   "id": "dfdb7b7b-d629-4f7a-bad1-f765c880d47d",
   "metadata": {},
   "outputs": [],
   "source": [
    "1. Discrete Probability Distributions\n",
    "\n",
    "    (i) Bernoulli Distribution\n",
    "    (ii) Binomial Distribution\n",
    "    (iii) Poisson Distribution\n",
    "    (iv) Geometric Distribution\n",
    "\n",
    "2. Continuous Probability Distributions\n",
    "\n",
    "    (i) Normal Distribution\n",
    "    (ii) Uniform Distribution\n",
    "    (iii) Exponential Distribution\n",
    "    (iv) Gamma Distribution\n",
    "    (v) Beta Distribution\n",
    "    (vi) Chi-Square Distribution"
   ]
  },
  {
   "cell_type": "markdown",
   "id": "b8110755-53a5-4a1b-bc63-13ded6c099d1",
   "metadata": {},
   "source": [
    "# Q3. Write a Python function to calculate the probability density function of a normal distribution with given mean and standard deviation at a given point."
   ]
  },
  {
   "cell_type": "code",
   "execution_count": 1,
   "id": "62d2f405-f02c-4074-8fb8-8797ae73a587",
   "metadata": {},
   "outputs": [
    {
     "name": "stdout",
     "output_type": "stream",
     "text": [
      "The PDF value of the normal distribution at x = 1 is 0.24197072451914337\n"
     ]
    }
   ],
   "source": [
    "import math\n",
    "\n",
    "def normal_pdf(x, mean, std_dev):\n",
    "    \"\"\"\n",
    "    Calculate the Probability Density Function (PDF) of a normal distribution.\n",
    "    \n",
    "    Parameters:\n",
    "    x (float): The point at which to evaluate the PDF.\n",
    "    mean (float): The mean (μ) of the normal distribution.\n",
    "    std_dev (float): The standard deviation (σ) of the normal distribution.\n",
    "    \n",
    "    Returns:\n",
    "    float: The value of the PDF at the given point.\n",
    "    \"\"\"\n",
    "    exponent = math.exp(-0.5 * ((x - mean) / std_dev) ** 2)\n",
    "    denominator = std_dev * math.sqrt(2 * math.pi)\n",
    "    return exponent / denominator\n",
    "\n",
    "# Example usage:\n",
    "mean = 0\n",
    "std_dev = 1\n",
    "x = 1\n",
    "pdf_value = normal_pdf(x, mean, std_dev)\n",
    "print(f\"The PDF value of the normal distribution at x = {x} is {pdf_value}\")"
   ]
  },
  {
   "cell_type": "markdown",
   "id": "1a82271f-11f3-475b-bac3-1efe23d76609",
   "metadata": {},
   "source": [
    "# Q4. What are the properties of Binomial distribution? Give two examples of events where binomial distribution can be applied."
   ]
  },
  {
   "cell_type": "code",
   "execution_count": null,
   "id": "b223bf0c-ab26-4ee3-bfee-1408fe8afac3",
   "metadata": {},
   "outputs": [],
   "source": [
    "Properties of Binomial Distribution\n",
    "\n",
    "The Binomial distribution is a discrete probability distribution that models the number of successes in a fixed\n",
    "number of independent trials, where each trial has the same probability of success. Below are its key properties:\n",
    "\n",
    "1. Number of Trials (n): The binomial distribution is defined for a fixed number of trials, denoted by n.\n",
    "\n",
    "2. Two Possible Outcomes: Each trial has only two possible outcomes: success or failure.\n",
    "\n",
    "3. Constant Probability of Success (p): The probability of success, denoted by p, remains constant for each trial.\n",
    "The probability of failure is 1−p.\n",
    "\n",
    "4. Independence: The trials are independent of each other, meaning the outcome of one trial does not affect the\n",
    "outcome of another.\n",
    "\n",
    "5. Discrete Random Variable: The binomial distribution models a discrete random variable, representing the number\n",
    "of successes in the n trials.\n",
    "\n",
    "Examples of Events Where Binomial Distribution Can Be Applied:\n",
    "\n",
    "1. Quality Control in Manufacturing: In a manufacturing process, suppose a company produces a large batch of items,\n",
    "and the probability that an item is defective is p. If they randomly select 20 items from the batch, the number\n",
    "of defective items among these 20 can be modeled using a binomial distribution with n=20 and the given probability\n",
    "p of an item being defective.\n",
    "\n",
    "2. Survey Responses: Suppose a survey asks 100 people whether they prefer coffee or tea, with a probability p of a\n",
    "person preferring coffee. The number of people who say they prefer coffee in this group of 100 can be modeled using\n",
    "a binomial distribution with n=100 and the given probability p of preferring coffee."
   ]
  },
  {
   "cell_type": "markdown",
   "id": "cf88940a-8c3c-43eb-b033-c4bcf4c7bc46",
   "metadata": {},
   "source": [
    "# Q5. Generate a random sample of size 1000 from a binomial distribution with probability of success 0.4 and plot a histogram of the results using matplotlib."
   ]
  },
  {
   "cell_type": "code",
   "execution_count": 2,
   "id": "d25dc47d-632d-4a18-83f6-29f394af4d4b",
   "metadata": {},
   "outputs": [
    {
     "data": {
      "image/png": "[encoded data removed]",
      "text/plain": [
       "<Figure size 640x480 with 1 Axes>"
      ]
     },
     "metadata": {},
     "output_type": "display_data"
    }
   ],
   "source": [
    "import numpy as np\n",
    "import matplotlib.pyplot as plt\n",
    "\n",
    "# Parameters\n",
    "n = 10  # Number of trials\n",
    "p = 0.4  # Probability of success\n",
    "sample_size = 1000  # Sample size\n",
    "\n",
    "# Generate random sample from binomial distribution\n",
    "sample = np.random.binomial(n, p, sample_size)\n",
    "\n",
    "# Plot histogram\n",
    "plt.hist(sample, bins=range(n+2), edgecolor='black', alpha=0.7)\n",
    "plt.title('Histogram of Binomial Distribution (n=10, p=0.4)')\n",
    "plt.xlabel('Number of Successes')\n",
    "plt.ylabel('Frequency')\n",
    "plt.xticks(range(n+1))\n",
    "plt.show()"
   ]
  },
  {
   "cell_type": "markdown",
   "id": "aef351ce-e6e9-4fba-80f9-8e469b4af79d",
   "metadata": {},
   "source": [
    "# Q6. Write a Python function to calculate the cumulative distribution function of a Poisson distribution with given mean at a given point."
   ]
  },
  {
   "cell_type": "code",
   "execution_count": 3,
   "id": "73e103a6-8894-4ded-9363-bf80e979cd96",
   "metadata": {},
   "outputs": [
    {
     "name": "stdout",
     "output_type": "stream",
     "text": [
      "The CDF value of the Poisson distribution at k = 2 is 0.2381033055535443\n"
     ]
    }
   ],
   "source": [
    "import math\n",
    "\n",
    "def poisson_cdf(k, mean):\n",
    "    \"\"\"\n",
    "    Calculate the Cumulative Distribution Function (CDF) of a Poisson distribution.\n",
    "    \n",
    "    Parameters:\n",
    "    k (int): The point at which to evaluate the CDF (the number of events).\n",
    "    mean (float): The mean (λ) of the Poisson distribution.\n",
    "    \n",
    "    Returns:\n",
    "    float: The value of the CDF at the given point.\n",
    "    \"\"\"\n",
    "    cdf = 0.0\n",
    "    for i in range(k + 1):\n",
    "        cdf += (math.exp(-mean) * mean**i) / math.factorial(i)\n",
    "    return cdf\n",
    "\n",
    "# Example usage:\n",
    "mean = 4.0\n",
    "k = 2\n",
    "cdf_value = poisson_cdf(k, mean)\n",
    "print(f\"The CDF value of the Poisson distribution at k = {k} is {cdf_value}\")"
   ]
  },
  {
   "cell_type": "markdown",
   "id": "7dd9129a-cc2c-4cd6-818b-8eb432f4a38f",
   "metadata": {},
   "source": [
    "# Q7. How Binomial distribution different from Poisson distribution?"
   ]
  },
  {
   "cell_type": "code",
   "execution_count": null,
   "id": "77ce80f6-8ff5-405e-b584-1bf1198a4694",
   "metadata": {},
   "outputs": [],
   "source": [
    "The Binomial distribution and the Poisson distribution are both discrete probability distributions, but they are\n",
    "used in different contexts and have distinct characteristics. Here's a comparison to highlight their differences:\n",
    "\n",
    "1. Nature of the Experiments:\n",
    "Binomial Distribution:\n",
    "Models the number of successes in a fixed number of independent trials.\n",
    "Each trial has two possible outcomes: success or failure.\n",
    "Example: Tossing a coin 10 times and counting the number of heads.\n",
    "\n",
    "Poisson Distribution:\n",
    "Models the number of events occurring within a fixed interval of time or space.\n",
    "The events are rare, independent, and occur with a known constant mean rate.\n",
    "Example: Counting the number of emails received in an hour.\n",
    "\n",
    "2. Parameters:\n",
    "Binomial Distribution:\n",
    "Depends on two parameters:\n",
    "(i)n: Number of trials.\n",
    "(ii)p: Probability of success in each trial.\n",
    "\n",
    "Poisson Distribution:\n",
    "Depends on a single parameter:\n",
    "λ: The average number of events in the given interval (mean rate of occurrence).\n",
    "\n",
    "3. Number of Trials:\n",
    "Binomial Distribution:\n",
    "The number of trials n is fixed and known in advance.\n",
    "\n",
    "Poisson Distribution:\n",
    "The number of trials is not fixed; instead, it models the number of events in a continuous interval.\n",
    "\n",
    "4. Probability of Success:\n",
    "Binomial Distribution:\n",
    "The probability of success p is fixed for each trial and must be specified.\n",
    "    \n",
    "Poisson Distribution:\n",
    "The probability of an event occurring in a small interval is proportional to the length of the interval, but the\n",
    "exact probability of success in each trial is not defined as it depends on λ."
   ]
  },
  {
   "cell_type": "markdown",
   "id": "9f53924d-a229-4968-a278-10d1ed39dc8b",
   "metadata": {},
   "source": [
    "# Q8. Generate a random sample of size 1000 from a Poisson distribution with mean 5 and calculate the sample mean and variance."
   ]
  },
  {
   "cell_type": "code",
   "execution_count": 4,
   "id": "b0a717f4-82ec-4c63-9caf-6a9f42274631",
   "metadata": {},
   "outputs": [
    {
     "name": "stdout",
     "output_type": "stream",
     "text": [
      "Sample Mean: 5.143\n",
      "Sample Variance: 5.094550999999999\n"
     ]
    }
   ],
   "source": [
    "import numpy as np\n",
    "\n",
    "# Parameters\n",
    "mean = 5  # Mean (λ) of the Poisson distribution\n",
    "sample_size = 1000  # Sample size\n",
    "\n",
    "# Generate random sample from Poisson distribution\n",
    "sample = np.random.poisson(mean, sample_size)\n",
    "\n",
    "# Calculate sample mean and variance\n",
    "sample_mean = np.mean(sample)\n",
    "sample_variance = np.var(sample)\n",
    "\n",
    "# Display the results\n",
    "print(f\"Sample Mean: {sample_mean}\")\n",
    "print(f\"Sample Variance: {sample_variance}\")"
   ]
  },
  {
   "cell_type": "markdown",
   "id": "a198c94d-3ee1-4ebd-a940-2ad42e6fb3a0",
   "metadata": {},
   "source": [
    "# Q9. How mean and variance are related in Binomial distribution and Poisson distribution?"
   ]
  },
  {
   "cell_type": "code",
   "execution_count": null,
   "id": "66c65efc-653b-4ab7-98c8-cc7e493f2f16",
   "metadata": {},
   "outputs": [],
   "source": [
    "In both the Binomial and Poisson distributions, the mean and variance are key parameters that describe the\n",
    "distribution's behavior. However, their relationship differs between the two distributions.\n",
    "\n",
    "1. Binomial Distribution\n",
    "\n",
    "For a Binomial distribution with parameters n (number of trials) and p (probability of success in each trial):\n",
    "Mean (μ): μ=np\n",
    "The mean of the Binomial distribution is the product of the number of trials and the probability of success.\n",
    "Variance (σ2): σ2=np(1−p)\n",
    "The variance of the Binomial distribution is the product of the mean np and the probability of failure 1−p.\n",
    "\n",
    "Relationship:\n",
    "In the Binomial distribution, the variance is directly related to the mean and also depends on the probability of\n",
    "failure 1−p. If p=0.5, the variance is maximized; if p is close to 0 or 1, the variance is lower.\n",
    "\n",
    "2. Poisson Distribution\n",
    "\n",
    "For a Poisson distribution with parameter λ (mean rate of occurrence):\n",
    "Mean (μ): μ=λ\n",
    "The mean of the Poisson distribution is simply the parameter λ, which represents the average number of events in a\n",
    "fixed interval.\n",
    "Variance (σ2): σ2=λ\n",
    "The variance of the Poisson distribution is equal to the mean.\n",
    "\n",
    "Relationship:\n",
    "In the Poisson distribution, the mean and variance are equal. This is a key characteristic of the Poisson\n",
    "distribution and distinguishes it from other distributions like the Binomial distribution."
   ]
  },
  {
   "cell_type": "markdown",
   "id": "4b5d9fef-9c5b-4f10-a549-11901b6624bf",
   "metadata": {},
   "source": [
    "# Q10. In normal distribution with respect to mean position, where does the least frequent data appear?"
   ]
  },
  {
   "cell_type": "code",
   "execution_count": null,
   "id": "4cc493f1-eea4-49f4-bbb2-016ae8191c91",
   "metadata": {},
   "outputs": [],
   "source": [
    "In a normal distribution, the least frequent data points appear at the extreme ends of the distribution, far from\n",
    "the mean.\n",
    "\n",
    "Mean Position:\n",
    "The mean (μ) is the center of the normal distribution and is where the data is most frequently concentrated.\n",
    "The normal distribution is symmetric about the mean.\n",
    "\n",
    "Frequency of Data:\n",
    "Data points close to the mean have higher frequencies and are more common.\n",
    "As you move away from the mean, the frequency of data points decreases.\n",
    "\n",
    "Least Frequent Data:\n",
    "The least frequent data points are located at the far ends of the distribution, in the tails.\n",
    "These are the data points that lie far from the mean, in the regions where the probability density is lower."
   ]
  },
  {
   "cell_type": "code",
   "execution_count": null,
   "id": "749c4a4e-e78b-4c6c-a0a0-af495f0254cb",
   "metadata": {},
   "outputs": [],
   "source": []
  },
  {
   "cell_type": "code",
   "execution_count": null,
   "id": "7d5c5067-e297-48b4-8e07-ba07205892b4",
   "metadata": {},
   "outputs": [],
   "source": []
  }
 ],
 "metadata": {
  "kernelspec": {
   "display_name": "Python 3 (ipykernel)",
   "language": "python",
   "name": "python3"
  },
  "language_info": {
   "codemirror_mode": {
    "name": "ipython",
    "version": 3
   },
   "file_extension": ".py",
   "mimetype": "text/x-python",
   "name": "python",
   "nbconvert_exporter": "python",
   "pygments_lexer": "ipython3",
   "version": "3.12.4"
  }
 },
 "nbformat": 4,
 "nbformat_minor": 5
}
